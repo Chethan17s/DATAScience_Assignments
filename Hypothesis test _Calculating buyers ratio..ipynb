{
 "cells": [
  {
   "cell_type": "code",
   "execution_count": 1,
   "metadata": {},
   "outputs": [],
   "source": [
    "import pandas as pd\n",
    "import numpy as np\n",
    "from scipy import stats\n"
   ]
  },
  {
   "cell_type": "code",
   "execution_count": 2,
   "metadata": {},
   "outputs": [],
   "source": [
    "#creating data frame.\n",
    "data=[[50,142,131,70],[550,351,480,350]]"
   ]
  },
  {
   "cell_type": "code",
   "execution_count": 6,
   "metadata": {},
   "outputs": [
    {
     "name": "stdout",
     "output_type": "stream",
     "text": [
      "pvlue is2.682172557281901e-17\n",
      "All propotion are equal(reject h0)\n"
     ]
    }
   ],
   "source": [
    "from scipy.stats import chi2_contingency \n",
    "stat, p, dof,critical=chi2_contingency(data)\n",
    "\n",
    "alpha= 0.05\n",
    "print (\"pvlue is\"+str(p))\n",
    "if p <=alpha:\n",
    "    print ('All propotion are equal(reject h0)')\n",
    "else:\n",
    "    print ('Not all propotion are equal(H0 holds true)')\n",
    "    "
   ]
  },
  {
   "cell_type": "code",
   "execution_count": 7,
   "metadata": {},
   "outputs": [
    {
     "data": {
      "text/plain": [
       "2.682172557281901e-17"
      ]
     },
     "execution_count": 7,
     "metadata": {},
     "output_type": "execute_result"
    }
   ],
   "source": [
    "p"
   ]
  },
  {
   "cell_type": "code",
   "execution_count": null,
   "metadata": {},
   "outputs": [],
   "source": []
  }
 ],
 "metadata": {
  "kernelspec": {
   "display_name": "Python 3",
   "language": "python",
   "name": "python3"
  },
  "language_info": {
   "codemirror_mode": {
    "name": "ipython",
    "version": 3
   },
   "file_extension": ".py",
   "mimetype": "text/x-python",
   "name": "python",
   "nbconvert_exporter": "python",
   "pygments_lexer": "ipython3",
   "version": "3.8.3"
  }
 },
 "nbformat": 4,
 "nbformat_minor": 4
}
